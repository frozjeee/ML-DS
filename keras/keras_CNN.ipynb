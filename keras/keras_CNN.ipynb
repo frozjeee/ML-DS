{
 "cells": [
  {
   "cell_type": "code",
   "execution_count": 1,
   "id": "b80228a2-cc05-4175-9d0a-852992904a63",
   "metadata": {},
   "outputs": [],
   "source": [
    "import keras\n",
    "from keras.models import Sequential\n",
    "from keras.layers import Dense\n",
    "from keras.utils import to_categorical"
   ]
  },
  {
   "cell_type": "code",
   "execution_count": 2,
   "id": "10de00ed-ae75-415e-bd4d-b10b24478e8f",
   "metadata": {},
   "outputs": [],
   "source": [
    "from keras.layers.convolutional import Conv2D # to add convolutional layers\n",
    "from keras.layers.convolutional import MaxPooling2D # to add pooling layers\n",
    "from keras.layers import Flatten # to flatten data for fully connected layers"
   ]
  },
  {
   "cell_type": "code",
   "execution_count": 3,
   "id": "15e2b15f-9a60-490d-aa7f-d0f03e3882ef",
   "metadata": {},
   "outputs": [],
   "source": [
    "# import data\n",
    "from keras.datasets import mnist\n",
    "\n",
    "# load data\n",
    "(X_train, y_train), (X_test, y_test) = mnist.load_data()\n",
    "\n",
    "# reshape to be [samples][pixels][width][height]\n"
   ]
  },
  {
   "cell_type": "code",
   "execution_count": 4,
   "id": "1ebe2523-1486-4ce9-8d6b-e528eda24a5d",
   "metadata": {},
   "outputs": [
    {
     "data": {
      "text/plain": [
       "(60000, 28, 28)"
      ]
     },
     "execution_count": 4,
     "metadata": {},
     "output_type": "execute_result"
    }
   ],
   "source": [
    "X_train.shape"
   ]
  },
  {
   "cell_type": "code",
   "execution_count": 5,
   "id": "5959715d-bd9b-426e-912b-55dc75b70ec0",
   "metadata": {},
   "outputs": [],
   "source": [
    "X_train = X_train.reshape(X_train.shape[0], 28, 28, 1).astype('float32')\n",
    "X_test = X_test.reshape(X_test.shape[0], 28, 28, 1).astype('float32')"
   ]
  },
  {
   "cell_type": "code",
   "execution_count": 6,
   "id": "b829c9f9-8899-4873-81f8-f3479e015175",
   "metadata": {},
   "outputs": [],
   "source": [
    "X_train = X_train / 255 # normalize training data\n",
    "X_test = X_test / 255 # normalize test data"
   ]
  },
  {
   "cell_type": "code",
   "execution_count": 7,
   "id": "068ccbe8-a689-449b-9bc1-46d64f3d8d6a",
   "metadata": {},
   "outputs": [],
   "source": [
    "y_train = to_categorical(y_train)\n",
    "y_test = to_categorical(y_test)\n",
    "\n",
    "num_classes = y_test.shape[1] # number of categories"
   ]
  },
  {
   "cell_type": "code",
   "execution_count": 8,
   "id": "fe46b656-d961-4eb0-a7b4-4ec2d39e90bd",
   "metadata": {},
   "outputs": [
    {
     "data": {
      "text/plain": [
       "(60000, 10)"
      ]
     },
     "execution_count": 8,
     "metadata": {},
     "output_type": "execute_result"
    }
   ],
   "source": [
    "y_train.shape"
   ]
  },
  {
   "cell_type": "code",
   "execution_count": 9,
   "id": "ce0f2a61-a2e5-4e35-b421-9435ea6a0187",
   "metadata": {},
   "outputs": [],
   "source": [
    "def convolutional_model():\n",
    "    \n",
    "    # create model\n",
    "    model = Sequential()\n",
    "    model.add(Conv2D(16, (5, 5), strides=(1, 1), activation='relu', input_shape=(28, 28, 1)))\n",
    "    model.add(MaxPooling2D(pool_size=(2, 2), strides=(2, 2)))\n",
    "    \n",
    "    model.add(Flatten())\n",
    "    model.add(Dense(100, activation='relu'))\n",
    "    model.add(Dense(num_classes, activation='softmax'))\n",
    "    \n",
    "    # compile model\n",
    "    model.compile(optimizer='adam', loss='categorical_crossentropy',  metrics=['accuracy'])\n",
    "    return model"
   ]
  },
  {
   "cell_type": "code",
   "execution_count": 10,
   "id": "c892b597-1a38-4e3b-af7a-fd2883717bfe",
   "metadata": {},
   "outputs": [
    {
     "name": "stdout",
     "output_type": "stream",
     "text": [
      "Epoch 1/10\n",
      "1875/1875 - 7s - loss: 0.1554 - accuracy: 0.9531 - val_loss: 0.0564 - val_accuracy: 0.9819 - 7s/epoch - 4ms/step\n",
      "Epoch 2/10\n",
      "1875/1875 - 7s - loss: 0.0516 - accuracy: 0.9837 - val_loss: 0.0437 - val_accuracy: 0.9848 - 7s/epoch - 4ms/step\n",
      "Epoch 3/10\n",
      "1875/1875 - 7s - loss: 0.0343 - accuracy: 0.9894 - val_loss: 0.0506 - val_accuracy: 0.9832 - 7s/epoch - 4ms/step\n",
      "Epoch 4/10\n",
      "1875/1875 - 6s - loss: 0.0256 - accuracy: 0.9920 - val_loss: 0.0365 - val_accuracy: 0.9883 - 6s/epoch - 3ms/step\n",
      "Epoch 5/10\n",
      "1875/1875 - 6s - loss: 0.0177 - accuracy: 0.9943 - val_loss: 0.0418 - val_accuracy: 0.9873 - 6s/epoch - 3ms/step\n",
      "Epoch 6/10\n",
      "1875/1875 - 6s - loss: 0.0131 - accuracy: 0.9959 - val_loss: 0.0442 - val_accuracy: 0.9865 - 6s/epoch - 3ms/step\n",
      "Epoch 7/10\n",
      "1875/1875 - 6s - loss: 0.0112 - accuracy: 0.9959 - val_loss: 0.0412 - val_accuracy: 0.9885 - 6s/epoch - 3ms/step\n",
      "Epoch 8/10\n",
      "1875/1875 - 6s - loss: 0.0088 - accuracy: 0.9970 - val_loss: 0.0465 - val_accuracy: 0.9871 - 6s/epoch - 3ms/step\n",
      "Epoch 9/10\n",
      "1875/1875 - 6s - loss: 0.0068 - accuracy: 0.9978 - val_loss: 0.0500 - val_accuracy: 0.9869 - 6s/epoch - 3ms/step\n",
      "Epoch 10/10\n",
      "1875/1875 - 7s - loss: 0.0057 - accuracy: 0.9983 - val_loss: 0.0524 - val_accuracy: 0.9862 - 7s/epoch - 4ms/step\n",
      "Accuracy: 0.9861999750137329 \n",
      " Error: 1.380002498626709\n"
     ]
    }
   ],
   "source": [
    "# build the model\n",
    "model = convolutional_model()\n",
    "\n",
    "# fit the model\n",
    "model.fit(X_train, y_train, validation_data=(X_test, y_test), epochs=10, verbose=2)\n",
    "\n",
    "# evaluate the model\n",
    "scores = model.evaluate(X_test, y_test, verbose=0)\n",
    "print(\"Accuracy: {} \\n Error: {}\".format(scores[1], 100-scores[1]*100))"
   ]
  },
  {
   "cell_type": "code",
   "execution_count": 13,
   "id": "9d509e30-b0c6-4767-8068-9b59b2dc882b",
   "metadata": {},
   "outputs": [],
   "source": [
    "def convolutional_model():\n",
    "    \n",
    "    # create model\n",
    "    model = Sequential()\n",
    "    model.add(Conv2D(16, (2, 2), activation='relu', input_shape=(28, 28, 1)))\n",
    "    model.add(MaxPooling2D(pool_size=(2, 2), strides=(2, 2)))\n",
    "    \n",
    "    model.add(Conv2D(32, (2, 2), activation='relu'))\n",
    "    model.add(MaxPooling2D(pool_size=(2, 2), strides=(2, 2)))\n",
    "    \n",
    "    model.add(Flatten())\n",
    "    model.add(Dense(100, activation='relu'))\n",
    "    model.add(Dense(num_classes, activation='softmax'))\n",
    "    \n",
    "    # Compile model\n",
    "    model.compile(optimizer='adam', loss='categorical_crossentropy',  metrics=['accuracy'])\n",
    "    return model"
   ]
  },
  {
   "cell_type": "code",
   "execution_count": 14,
   "id": "e26ceb03-92c1-4f84-b9e9-a9158529507e",
   "metadata": {},
   "outputs": [
    {
     "name": "stdout",
     "output_type": "stream",
     "text": [
      "Epoch 1/10\n",
      "300/300 - 6s - loss: 0.3942 - accuracy: 0.8919 - val_loss: 0.1342 - val_accuracy: 0.9612 - 6s/epoch - 19ms/step\n",
      "Epoch 2/10\n",
      "300/300 - 6s - loss: 0.0979 - accuracy: 0.9706 - val_loss: 0.0737 - val_accuracy: 0.9767 - 6s/epoch - 20ms/step\n",
      "Epoch 3/10\n",
      "300/300 - 6s - loss: 0.0703 - accuracy: 0.9784 - val_loss: 0.0583 - val_accuracy: 0.9818 - 6s/epoch - 19ms/step\n",
      "Epoch 4/10\n",
      "300/300 - 6s - loss: 0.0557 - accuracy: 0.9832 - val_loss: 0.0486 - val_accuracy: 0.9836 - 6s/epoch - 19ms/step\n",
      "Epoch 5/10\n",
      "300/300 - 6s - loss: 0.0467 - accuracy: 0.9855 - val_loss: 0.0459 - val_accuracy: 0.9839 - 6s/epoch - 19ms/step\n",
      "Epoch 6/10\n",
      "300/300 - 6s - loss: 0.0406 - accuracy: 0.9873 - val_loss: 0.0475 - val_accuracy: 0.9842 - 6s/epoch - 19ms/step\n",
      "Epoch 7/10\n",
      "300/300 - 6s - loss: 0.0356 - accuracy: 0.9885 - val_loss: 0.0395 - val_accuracy: 0.9877 - 6s/epoch - 19ms/step\n",
      "Epoch 8/10\n",
      "300/300 - 6s - loss: 0.0285 - accuracy: 0.9914 - val_loss: 0.0395 - val_accuracy: 0.9870 - 6s/epoch - 19ms/step\n",
      "Epoch 9/10\n",
      "300/300 - 6s - loss: 0.0255 - accuracy: 0.9919 - val_loss: 0.0397 - val_accuracy: 0.9868 - 6s/epoch - 19ms/step\n",
      "Epoch 10/10\n",
      "300/300 - 6s - loss: 0.0213 - accuracy: 0.9934 - val_loss: 0.0382 - val_accuracy: 0.9884 - 6s/epoch - 19ms/step\n",
      "Accuracy: 0.9883999824523926 \n",
      " Error: 1.1600017547607422\n"
     ]
    }
   ],
   "source": [
    "# build the model\n",
    "model = convolutional_model()\n",
    "\n",
    "# fit the model\n",
    "model.fit(X_train, y_train, validation_data=(X_test, y_test), epochs=10, batch_size=200, verbose=2)\n",
    "\n",
    "# evaluate the model\n",
    "scores = model.evaluate(X_test, y_test, verbose=0)\n",
    "print(\"Accuracy: {} \\n Error: {}\".format(scores[1], 100-scores[1]*100))"
   ]
  },
  {
   "cell_type": "code",
   "execution_count": null,
   "id": "b9075232-1b5a-4170-b933-1b2d8cdb59a3",
   "metadata": {},
   "outputs": [],
   "source": []
  }
 ],
 "metadata": {
  "kernelspec": {
   "display_name": "Python 3 (ipykernel)",
   "language": "python",
   "name": "python3"
  },
  "language_info": {
   "codemirror_mode": {
    "name": "ipython",
    "version": 3
   },
   "file_extension": ".py",
   "mimetype": "text/x-python",
   "name": "python",
   "nbconvert_exporter": "python",
   "pygments_lexer": "ipython3",
   "version": "3.9.13"
  }
 },
 "nbformat": 4,
 "nbformat_minor": 5
}
