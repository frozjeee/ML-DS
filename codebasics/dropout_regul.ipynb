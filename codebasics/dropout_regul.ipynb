{
 "cells": [
  {
   "cell_type": "code",
   "execution_count": 34,
   "id": "4cd1b0d7-8bfd-42c0-bce3-4d519b87813c",
   "metadata": {},
   "outputs": [],
   "source": [
    "import numpy as np\n",
    "import pandas as pd\n",
    "import matplotlib.pyplot as plt\n",
    "import seaborn as sns\n",
    "pd.options.mode.chained_assignment = None"
   ]
  },
  {
   "cell_type": "code",
   "execution_count": 35,
   "id": "b72e7643-b8d0-4aa0-bbd3-246bf193ebc8",
   "metadata": {},
   "outputs": [
    {
     "data": {
      "text/html": [
       "<div>\n",
       "<style scoped>\n",
       "    .dataframe tbody tr th:only-of-type {\n",
       "        vertical-align: middle;\n",
       "    }\n",
       "\n",
       "    .dataframe tbody tr th {\n",
       "        vertical-align: top;\n",
       "    }\n",
       "\n",
       "    .dataframe thead th {\n",
       "        text-align: right;\n",
       "    }\n",
       "</style>\n",
       "<table border=\"1\" class=\"dataframe\">\n",
       "  <thead>\n",
       "    <tr style=\"text-align: right;\">\n",
       "      <th></th>\n",
       "      <th>0</th>\n",
       "      <th>1</th>\n",
       "      <th>2</th>\n",
       "      <th>3</th>\n",
       "      <th>4</th>\n",
       "      <th>5</th>\n",
       "      <th>6</th>\n",
       "      <th>7</th>\n",
       "      <th>8</th>\n",
       "      <th>9</th>\n",
       "      <th>...</th>\n",
       "      <th>51</th>\n",
       "      <th>52</th>\n",
       "      <th>53</th>\n",
       "      <th>54</th>\n",
       "      <th>55</th>\n",
       "      <th>56</th>\n",
       "      <th>57</th>\n",
       "      <th>58</th>\n",
       "      <th>59</th>\n",
       "      <th>60</th>\n",
       "    </tr>\n",
       "  </thead>\n",
       "  <tbody>\n",
       "    <tr>\n",
       "      <th>133</th>\n",
       "      <td>0.0790</td>\n",
       "      <td>0.0707</td>\n",
       "      <td>0.0352</td>\n",
       "      <td>0.1660</td>\n",
       "      <td>0.1330</td>\n",
       "      <td>0.0226</td>\n",
       "      <td>0.0771</td>\n",
       "      <td>0.2678</td>\n",
       "      <td>0.5664</td>\n",
       "      <td>0.6609</td>\n",
       "      <td>...</td>\n",
       "      <td>0.0298</td>\n",
       "      <td>0.0390</td>\n",
       "      <td>0.0294</td>\n",
       "      <td>0.0175</td>\n",
       "      <td>0.0249</td>\n",
       "      <td>0.0141</td>\n",
       "      <td>0.0073</td>\n",
       "      <td>0.0025</td>\n",
       "      <td>0.0101</td>\n",
       "      <td>M</td>\n",
       "    </tr>\n",
       "    <tr>\n",
       "      <th>90</th>\n",
       "      <td>0.0126</td>\n",
       "      <td>0.0519</td>\n",
       "      <td>0.0621</td>\n",
       "      <td>0.0518</td>\n",
       "      <td>0.1072</td>\n",
       "      <td>0.2587</td>\n",
       "      <td>0.2304</td>\n",
       "      <td>0.2067</td>\n",
       "      <td>0.3416</td>\n",
       "      <td>0.4284</td>\n",
       "      <td>...</td>\n",
       "      <td>0.0208</td>\n",
       "      <td>0.0048</td>\n",
       "      <td>0.0199</td>\n",
       "      <td>0.0126</td>\n",
       "      <td>0.0022</td>\n",
       "      <td>0.0037</td>\n",
       "      <td>0.0034</td>\n",
       "      <td>0.0114</td>\n",
       "      <td>0.0077</td>\n",
       "      <td>R</td>\n",
       "    </tr>\n",
       "    <tr>\n",
       "      <th>203</th>\n",
       "      <td>0.0187</td>\n",
       "      <td>0.0346</td>\n",
       "      <td>0.0168</td>\n",
       "      <td>0.0177</td>\n",
       "      <td>0.0393</td>\n",
       "      <td>0.1630</td>\n",
       "      <td>0.2028</td>\n",
       "      <td>0.1694</td>\n",
       "      <td>0.2328</td>\n",
       "      <td>0.2684</td>\n",
       "      <td>...</td>\n",
       "      <td>0.0116</td>\n",
       "      <td>0.0098</td>\n",
       "      <td>0.0199</td>\n",
       "      <td>0.0033</td>\n",
       "      <td>0.0101</td>\n",
       "      <td>0.0065</td>\n",
       "      <td>0.0115</td>\n",
       "      <td>0.0193</td>\n",
       "      <td>0.0157</td>\n",
       "      <td>M</td>\n",
       "    </tr>\n",
       "    <tr>\n",
       "      <th>159</th>\n",
       "      <td>0.0235</td>\n",
       "      <td>0.0220</td>\n",
       "      <td>0.0167</td>\n",
       "      <td>0.0516</td>\n",
       "      <td>0.0746</td>\n",
       "      <td>0.1121</td>\n",
       "      <td>0.1258</td>\n",
       "      <td>0.1717</td>\n",
       "      <td>0.3074</td>\n",
       "      <td>0.3199</td>\n",
       "      <td>...</td>\n",
       "      <td>0.0221</td>\n",
       "      <td>0.0152</td>\n",
       "      <td>0.0083</td>\n",
       "      <td>0.0058</td>\n",
       "      <td>0.0023</td>\n",
       "      <td>0.0057</td>\n",
       "      <td>0.0052</td>\n",
       "      <td>0.0027</td>\n",
       "      <td>0.0021</td>\n",
       "      <td>M</td>\n",
       "    </tr>\n",
       "    <tr>\n",
       "      <th>88</th>\n",
       "      <td>0.0274</td>\n",
       "      <td>0.0242</td>\n",
       "      <td>0.0621</td>\n",
       "      <td>0.0560</td>\n",
       "      <td>0.1129</td>\n",
       "      <td>0.0973</td>\n",
       "      <td>0.1823</td>\n",
       "      <td>0.1745</td>\n",
       "      <td>0.1440</td>\n",
       "      <td>0.1808</td>\n",
       "      <td>...</td>\n",
       "      <td>0.0113</td>\n",
       "      <td>0.0108</td>\n",
       "      <td>0.0085</td>\n",
       "      <td>0.0047</td>\n",
       "      <td>0.0074</td>\n",
       "      <td>0.0104</td>\n",
       "      <td>0.0161</td>\n",
       "      <td>0.0220</td>\n",
       "      <td>0.0173</td>\n",
       "      <td>R</td>\n",
       "    </tr>\n",
       "  </tbody>\n",
       "</table>\n",
       "<p>5 rows × 61 columns</p>\n",
       "</div>"
      ],
      "text/plain": [
       "         0       1       2       3       4       5       6       7       8   \\\n",
       "133  0.0790  0.0707  0.0352  0.1660  0.1330  0.0226  0.0771  0.2678  0.5664   \n",
       "90   0.0126  0.0519  0.0621  0.0518  0.1072  0.2587  0.2304  0.2067  0.3416   \n",
       "203  0.0187  0.0346  0.0168  0.0177  0.0393  0.1630  0.2028  0.1694  0.2328   \n",
       "159  0.0235  0.0220  0.0167  0.0516  0.0746  0.1121  0.1258  0.1717  0.3074   \n",
       "88   0.0274  0.0242  0.0621  0.0560  0.1129  0.0973  0.1823  0.1745  0.1440   \n",
       "\n",
       "         9   ...      51      52      53      54      55      56      57  \\\n",
       "133  0.6609  ...  0.0298  0.0390  0.0294  0.0175  0.0249  0.0141  0.0073   \n",
       "90   0.4284  ...  0.0208  0.0048  0.0199  0.0126  0.0022  0.0037  0.0034   \n",
       "203  0.2684  ...  0.0116  0.0098  0.0199  0.0033  0.0101  0.0065  0.0115   \n",
       "159  0.3199  ...  0.0221  0.0152  0.0083  0.0058  0.0023  0.0057  0.0052   \n",
       "88   0.1808  ...  0.0113  0.0108  0.0085  0.0047  0.0074  0.0104  0.0161   \n",
       "\n",
       "         58      59  60  \n",
       "133  0.0025  0.0101   M  \n",
       "90   0.0114  0.0077   R  \n",
       "203  0.0193  0.0157   M  \n",
       "159  0.0027  0.0021   M  \n",
       "88   0.0220  0.0173   R  \n",
       "\n",
       "[5 rows x 61 columns]"
      ]
     },
     "execution_count": 35,
     "metadata": {},
     "output_type": "execute_result"
    }
   ],
   "source": [
    "import warnings \n",
    "warnings.filterwarnings(\"ignore\")\n",
    "\n",
    "df = pd.read_csv(\"sonar_dataset.csv\", header=None)\n",
    "df.sample(5)"
   ]
  },
  {
   "cell_type": "code",
   "execution_count": 36,
   "id": "2bd7dbcb-51a5-4220-be2d-ce78180d5d96",
   "metadata": {},
   "outputs": [
    {
     "data": {
      "text/plain": [
       "0     0\n",
       "1     0\n",
       "2     0\n",
       "3     0\n",
       "4     0\n",
       "     ..\n",
       "56    0\n",
       "57    0\n",
       "58    0\n",
       "59    0\n",
       "60    0\n",
       "Length: 61, dtype: int64"
      ]
     },
     "execution_count": 36,
     "metadata": {},
     "output_type": "execute_result"
    }
   ],
   "source": [
    "df.isnull().sum()"
   ]
  },
  {
   "cell_type": "code",
   "execution_count": 37,
   "id": "8a699435-7a6b-4ca0-b488-20bb06c38741",
   "metadata": {},
   "outputs": [
    {
     "data": {
      "text/plain": [
       "Index([ 0,  1,  2,  3,  4,  5,  6,  7,  8,  9, 10, 11, 12, 13, 14, 15, 16, 17,\n",
       "       18, 19, 20, 21, 22, 23, 24, 25, 26, 27, 28, 29, 30, 31, 32, 33, 34, 35,\n",
       "       36, 37, 38, 39, 40, 41, 42, 43, 44, 45, 46, 47, 48, 49, 50, 51, 52, 53,\n",
       "       54, 55, 56, 57, 58, 59, 60],\n",
       "      dtype='int64')"
      ]
     },
     "execution_count": 37,
     "metadata": {},
     "output_type": "execute_result"
    }
   ],
   "source": [
    "df.columns"
   ]
  },
  {
   "cell_type": "code",
   "execution_count": 38,
   "id": "b552fb3e-98bb-45cd-b13b-596fea7bbb72",
   "metadata": {},
   "outputs": [
    {
     "data": {
      "text/plain": [
       "60\n",
       "M    111\n",
       "R     97\n",
       "Name: count, dtype: int64"
      ]
     },
     "execution_count": 38,
     "metadata": {},
     "output_type": "execute_result"
    }
   ],
   "source": [
    "df[60].value_counts()"
   ]
  },
  {
   "cell_type": "code",
   "execution_count": 74,
   "id": "062e23fe-73b7-4ad3-bf2d-08e22de019e5",
   "metadata": {},
   "outputs": [],
   "source": [
    "X = df.drop(60, axis=\"columns\")\n",
    "y = df[60]"
   ]
  },
  {
   "cell_type": "code",
   "execution_count": 75,
   "id": "deec0b8e-8949-46c7-9b93-4bfce67376c1",
   "metadata": {},
   "outputs": [
    {
     "data": {
      "text/plain": [
       "0    R\n",
       "1    R\n",
       "2    R\n",
       "3    R\n",
       "4    R\n",
       "Name: 60, dtype: object"
      ]
     },
     "execution_count": 75,
     "metadata": {},
     "output_type": "execute_result"
    }
   ],
   "source": [
    "y.head()"
   ]
  },
  {
   "cell_type": "code",
   "execution_count": 79,
   "id": "6370b710-faf4-4991-a62d-a5aba14d6814",
   "metadata": {},
   "outputs": [],
   "source": [
    "y = pd.get_dummies(y, drop_first=True)\n",
    "y = y.replace({True: 1, False: 0})"
   ]
  },
  {
   "cell_type": "code",
   "execution_count": 80,
   "id": "ec0dfa92-83ed-4e0a-9fba-226ea716cb2a",
   "metadata": {},
   "outputs": [
    {
     "data": {
      "text/plain": [
       "R\n",
       "0    111\n",
       "1     97\n",
       "Name: count, dtype: int64"
      ]
     },
     "execution_count": 80,
     "metadata": {},
     "output_type": "execute_result"
    }
   ],
   "source": [
    "y.value_counts()"
   ]
  },
  {
   "cell_type": "code",
   "execution_count": 81,
   "id": "01447a98-8b28-4ae5-9bf9-d1e024187a78",
   "metadata": {},
   "outputs": [],
   "source": [
    "from sklearn.model_selection import train_test_split\n",
    "\n",
    "X_train, X_test, y_train, y_test = train_test_split(X, y, test_size=0.25, random_state=1)"
   ]
  },
  {
   "cell_type": "code",
   "execution_count": 103,
   "id": "7b2d89ac-29df-40ce-899a-443139ec7c28",
   "metadata": {},
   "outputs": [],
   "source": [
    "import tensorflow as tf\n",
    "from tensorflow import keras\n",
    "\n",
    "model = keras.models.Sequential([\n",
    "    # keras.layers.Input(shape=(60,)),\n",
    "    keras.layers.Dense(60, input_dim=60, activation=\"relu\"),\n",
    "    keras.layers.Dense(30, activation=\"relu\"),\n",
    "    keras.layers.Dense(15, activation=\"relu\"),\n",
    "    keras.layers.Dense(1, activation=\"sigmoid\"),\n",
    "])\n",
    "\n",
    "model.compile(optimizer=\"adam\",\n",
    "              loss=\"binary_crossentropy\",\n",
    "              metrics=[\"accuracy\"],\n",
    "             )"
   ]
  },
  {
   "cell_type": "code",
   "execution_count": 104,
   "id": "9e06966a-b389-4fd3-b9b3-b6f33b107633",
   "metadata": {},
   "outputs": [
    {
     "name": "stdout",
     "output_type": "stream",
     "text": [
      "Epoch 1/100\n",
      "26/26 [==============================] - 0s 718us/step - loss: 0.6939 - accuracy: 0.5144\n",
      "Epoch 2/100\n",
      "26/26 [==============================] - 0s 678us/step - loss: 0.6667 - accuracy: 0.5673\n",
      "Epoch 3/100\n",
      "26/26 [==============================] - 0s 678us/step - loss: 0.6412 - accuracy: 0.6394\n",
      "Epoch 4/100\n",
      "26/26 [==============================] - 0s 678us/step - loss: 0.6119 - accuracy: 0.6731\n",
      "Epoch 5/100\n",
      "26/26 [==============================] - 0s 718us/step - loss: 0.5752 - accuracy: 0.6971\n",
      "Epoch 6/100\n",
      "26/26 [==============================] - 0s 699us/step - loss: 0.5432 - accuracy: 0.7452\n",
      "Epoch 7/100\n",
      "26/26 [==============================] - 0s 798us/step - loss: 0.5053 - accuracy: 0.7933\n",
      "Epoch 8/100\n",
      "26/26 [==============================] - 0s 758us/step - loss: 0.4745 - accuracy: 0.7788\n",
      "Epoch 9/100\n",
      "26/26 [==============================] - 0s 1ms/step - loss: 0.4628 - accuracy: 0.7788\n",
      "Epoch 10/100\n",
      "26/26 [==============================] - 0s 798us/step - loss: 0.4291 - accuracy: 0.8173\n",
      "Epoch 11/100\n",
      "26/26 [==============================] - 0s 798us/step - loss: 0.3986 - accuracy: 0.8269\n",
      "Epoch 12/100\n",
      "26/26 [==============================] - 0s 758us/step - loss: 0.3856 - accuracy: 0.8510\n",
      "Epoch 13/100\n",
      "26/26 [==============================] - 0s 798us/step - loss: 0.3558 - accuracy: 0.8606\n",
      "Epoch 14/100\n",
      "26/26 [==============================] - 0s 798us/step - loss: 0.3399 - accuracy: 0.8510\n",
      "Epoch 15/100\n",
      "26/26 [==============================] - 0s 758us/step - loss: 0.3593 - accuracy: 0.8462\n",
      "Epoch 16/100\n",
      "26/26 [==============================] - 0s 798us/step - loss: 0.3433 - accuracy: 0.8125\n",
      "Epoch 17/100\n",
      "26/26 [==============================] - 0s 798us/step - loss: 0.3149 - accuracy: 0.8942\n",
      "Epoch 18/100\n",
      "26/26 [==============================] - 0s 718us/step - loss: 0.2954 - accuracy: 0.8654\n",
      "Epoch 19/100\n",
      "26/26 [==============================] - 0s 718us/step - loss: 0.2816 - accuracy: 0.8942\n",
      "Epoch 20/100\n",
      "26/26 [==============================] - 0s 758us/step - loss: 0.2603 - accuracy: 0.9087\n",
      "Epoch 21/100\n",
      "26/26 [==============================] - 0s 718us/step - loss: 0.2654 - accuracy: 0.8798\n",
      "Epoch 22/100\n",
      "26/26 [==============================] - 0s 718us/step - loss: 0.2598 - accuracy: 0.9038\n",
      "Epoch 23/100\n",
      "26/26 [==============================] - 0s 758us/step - loss: 0.2337 - accuracy: 0.9087\n",
      "Epoch 24/100\n",
      "26/26 [==============================] - 0s 758us/step - loss: 0.2243 - accuracy: 0.9183\n",
      "Epoch 25/100\n",
      "26/26 [==============================] - 0s 758us/step - loss: 0.2035 - accuracy: 0.9327\n",
      "Epoch 26/100\n",
      "26/26 [==============================] - 0s 798us/step - loss: 0.2084 - accuracy: 0.9135\n",
      "Epoch 27/100\n",
      "26/26 [==============================] - 0s 758us/step - loss: 0.2003 - accuracy: 0.9231\n",
      "Epoch 28/100\n",
      "26/26 [==============================] - 0s 798us/step - loss: 0.2223 - accuracy: 0.8846\n",
      "Epoch 29/100\n",
      "26/26 [==============================] - 0s 758us/step - loss: 0.2000 - accuracy: 0.9183\n",
      "Epoch 30/100\n",
      "26/26 [==============================] - 0s 798us/step - loss: 0.1712 - accuracy: 0.9423\n",
      "Epoch 31/100\n",
      "26/26 [==============================] - 0s 758us/step - loss: 0.1525 - accuracy: 0.9519\n",
      "Epoch 32/100\n",
      "26/26 [==============================] - 0s 758us/step - loss: 0.1985 - accuracy: 0.9183\n",
      "Epoch 33/100\n",
      "26/26 [==============================] - 0s 758us/step - loss: 0.1428 - accuracy: 0.9423\n",
      "Epoch 34/100\n",
      "26/26 [==============================] - 0s 718us/step - loss: 0.1291 - accuracy: 0.9615\n",
      "Epoch 35/100\n",
      "26/26 [==============================] - 0s 798us/step - loss: 0.1249 - accuracy: 0.9471\n",
      "Epoch 36/100\n",
      "26/26 [==============================] - 0s 718us/step - loss: 0.1088 - accuracy: 0.9712\n",
      "Epoch 37/100\n",
      "26/26 [==============================] - 0s 718us/step - loss: 0.1092 - accuracy: 0.9712\n",
      "Epoch 38/100\n",
      "26/26 [==============================] - 0s 758us/step - loss: 0.0946 - accuracy: 0.9663\n",
      "Epoch 39/100\n",
      "26/26 [==============================] - 0s 997us/step - loss: 0.0848 - accuracy: 0.9808\n",
      "Epoch 40/100\n",
      "26/26 [==============================] - 0s 718us/step - loss: 0.0807 - accuracy: 0.9856\n",
      "Epoch 41/100\n",
      "26/26 [==============================] - 0s 758us/step - loss: 0.0792 - accuracy: 0.9712\n",
      "Epoch 42/100\n",
      "26/26 [==============================] - 0s 758us/step - loss: 0.0636 - accuracy: 0.9904\n",
      "Epoch 43/100\n",
      "26/26 [==============================] - 0s 758us/step - loss: 0.0621 - accuracy: 0.9808\n",
      "Epoch 44/100\n",
      "26/26 [==============================] - 0s 718us/step - loss: 0.0687 - accuracy: 0.9760\n",
      "Epoch 45/100\n",
      "26/26 [==============================] - 0s 718us/step - loss: 0.0617 - accuracy: 0.9856\n",
      "Epoch 46/100\n",
      "26/26 [==============================] - 0s 798us/step - loss: 0.0623 - accuracy: 0.9856\n",
      "Epoch 47/100\n",
      "26/26 [==============================] - 0s 798us/step - loss: 0.0553 - accuracy: 0.9952\n",
      "Epoch 48/100\n",
      "26/26 [==============================] - 0s 758us/step - loss: 0.0407 - accuracy: 0.9904\n",
      "Epoch 49/100\n",
      "26/26 [==============================] - 0s 798us/step - loss: 0.0333 - accuracy: 1.0000\n",
      "Epoch 50/100\n",
      "26/26 [==============================] - 0s 838us/step - loss: 0.0358 - accuracy: 1.0000\n",
      "Epoch 51/100\n",
      "26/26 [==============================] - 0s 758us/step - loss: 0.0290 - accuracy: 1.0000\n",
      "Epoch 52/100\n",
      "26/26 [==============================] - 0s 758us/step - loss: 0.0258 - accuracy: 1.0000\n",
      "Epoch 53/100\n",
      "26/26 [==============================] - 0s 798us/step - loss: 0.0273 - accuracy: 1.0000\n",
      "Epoch 54/100\n",
      "26/26 [==============================] - 0s 758us/step - loss: 0.0320 - accuracy: 1.0000\n",
      "Epoch 55/100\n",
      "26/26 [==============================] - 0s 838us/step - loss: 0.0241 - accuracy: 1.0000\n",
      "Epoch 56/100\n",
      "26/26 [==============================] - 0s 798us/step - loss: 0.0247 - accuracy: 1.0000\n",
      "Epoch 57/100\n",
      "26/26 [==============================] - 0s 718us/step - loss: 0.0198 - accuracy: 1.0000\n",
      "Epoch 58/100\n",
      "26/26 [==============================] - 0s 758us/step - loss: 0.0179 - accuracy: 1.0000\n",
      "Epoch 59/100\n",
      "26/26 [==============================] - 0s 718us/step - loss: 0.0169 - accuracy: 1.0000\n",
      "Epoch 60/100\n",
      "26/26 [==============================] - 0s 758us/step - loss: 0.0132 - accuracy: 1.0000\n",
      "Epoch 61/100\n",
      "26/26 [==============================] - 0s 798us/step - loss: 0.0142 - accuracy: 1.0000\n",
      "Epoch 62/100\n",
      "26/26 [==============================] - 0s 1ms/step - loss: 0.0116 - accuracy: 1.0000\n",
      "Epoch 63/100\n",
      "26/26 [==============================] - 0s 758us/step - loss: 0.0115 - accuracy: 1.0000\n",
      "Epoch 64/100\n",
      "26/26 [==============================] - 0s 758us/step - loss: 0.0109 - accuracy: 1.0000\n",
      "Epoch 65/100\n",
      "26/26 [==============================] - 0s 758us/step - loss: 0.0113 - accuracy: 1.0000\n",
      "Epoch 66/100\n",
      "26/26 [==============================] - 0s 758us/step - loss: 0.0118 - accuracy: 1.0000\n",
      "Epoch 67/100\n",
      "26/26 [==============================] - 0s 758us/step - loss: 0.0084 - accuracy: 1.0000\n",
      "Epoch 68/100\n",
      "26/26 [==============================] - 0s 718us/step - loss: 0.0084 - accuracy: 1.0000\n",
      "Epoch 69/100\n",
      "26/26 [==============================] - 0s 758us/step - loss: 0.0102 - accuracy: 1.0000\n",
      "Epoch 70/100\n",
      "26/26 [==============================] - 0s 738us/step - loss: 0.0066 - accuracy: 1.0000\n",
      "Epoch 71/100\n",
      "26/26 [==============================] - 0s 758us/step - loss: 0.0060 - accuracy: 1.0000\n",
      "Epoch 72/100\n",
      "26/26 [==============================] - 0s 758us/step - loss: 0.0060 - accuracy: 1.0000\n",
      "Epoch 73/100\n",
      "26/26 [==============================] - 0s 758us/step - loss: 0.0067 - accuracy: 1.0000\n",
      "Epoch 74/100\n",
      "26/26 [==============================] - 0s 818us/step - loss: 0.0058 - accuracy: 1.0000\n",
      "Epoch 75/100\n",
      "26/26 [==============================] - 0s 798us/step - loss: 0.0049 - accuracy: 1.0000\n",
      "Epoch 76/100\n",
      "26/26 [==============================] - 0s 798us/step - loss: 0.0047 - accuracy: 1.0000\n",
      "Epoch 77/100\n",
      "26/26 [==============================] - 0s 758us/step - loss: 0.0045 - accuracy: 1.0000\n",
      "Epoch 78/100\n",
      "26/26 [==============================] - 0s 758us/step - loss: 0.0041 - accuracy: 1.0000\n",
      "Epoch 79/100\n",
      "26/26 [==============================] - 0s 778us/step - loss: 0.0041 - accuracy: 1.0000\n",
      "Epoch 80/100\n",
      "26/26 [==============================] - 0s 718us/step - loss: 0.0038 - accuracy: 1.0000\n",
      "Epoch 81/100\n",
      "26/26 [==============================] - 0s 798us/step - loss: 0.0034 - accuracy: 1.0000\n",
      "Epoch 82/100\n",
      "26/26 [==============================] - 0s 758us/step - loss: 0.0033 - accuracy: 1.0000\n",
      "Epoch 83/100\n",
      "26/26 [==============================] - 0s 718us/step - loss: 0.0031 - accuracy: 1.0000\n",
      "Epoch 84/100\n",
      "26/26 [==============================] - 0s 738us/step - loss: 0.0032 - accuracy: 1.0000\n",
      "Epoch 85/100\n",
      "26/26 [==============================] - 0s 758us/step - loss: 0.0029 - accuracy: 1.0000\n",
      "Epoch 86/100\n",
      "26/26 [==============================] - 0s 718us/step - loss: 0.0030 - accuracy: 1.0000\n",
      "Epoch 87/100\n",
      "26/26 [==============================] - 0s 718us/step - loss: 0.0030 - accuracy: 1.0000\n",
      "Epoch 88/100\n",
      "26/26 [==============================] - 0s 739us/step - loss: 0.0026 - accuracy: 1.0000\n",
      "Epoch 89/100\n",
      "26/26 [==============================] - 0s 718us/step - loss: 0.0025 - accuracy: 1.0000\n",
      "Epoch 90/100\n",
      "26/26 [==============================] - 0s 798us/step - loss: 0.0026 - accuracy: 1.0000\n",
      "Epoch 91/100\n",
      "26/26 [==============================] - 0s 798us/step - loss: 0.0023 - accuracy: 1.0000\n",
      "Epoch 92/100\n",
      "26/26 [==============================] - 0s 798us/step - loss: 0.0022 - accuracy: 1.0000\n",
      "Epoch 93/100\n",
      "26/26 [==============================] - 0s 798us/step - loss: 0.0021 - accuracy: 1.0000\n",
      "Epoch 94/100\n",
      "26/26 [==============================] - 0s 758us/step - loss: 0.0022 - accuracy: 1.0000\n",
      "Epoch 95/100\n",
      "26/26 [==============================] - 0s 798us/step - loss: 0.0022 - accuracy: 1.0000\n",
      "Epoch 96/100\n",
      "26/26 [==============================] - 0s 758us/step - loss: 0.0020 - accuracy: 1.0000\n",
      "Epoch 97/100\n",
      "26/26 [==============================] - 0s 718us/step - loss: 0.0018 - accuracy: 1.0000\n",
      "Epoch 98/100\n",
      "26/26 [==============================] - 0s 758us/step - loss: 0.0018 - accuracy: 1.0000\n",
      "Epoch 99/100\n",
      "26/26 [==============================] - 0s 718us/step - loss: 0.0019 - accuracy: 1.0000\n",
      "Epoch 100/100\n",
      "26/26 [==============================] - 0s 718us/step - loss: 0.0018 - accuracy: 1.0000\n"
     ]
    },
    {
     "data": {
      "text/plain": [
       "<keras.src.callbacks.History at 0x2bf9ed3ec10>"
      ]
     },
     "execution_count": 104,
     "metadata": {},
     "output_type": "execute_result"
    }
   ],
   "source": [
    "model.fit(X, y, epochs=100, batch_size=8)"
   ]
  },
  {
   "cell_type": "code",
   "execution_count": 94,
   "id": "ebaa9431-1a11-48de-aabf-7c986dba8737",
   "metadata": {},
   "outputs": [
    {
     "name": "stdout",
     "output_type": "stream",
     "text": [
      "2/2 [==============================] - 0s 2ms/step - loss: 0.0012 - accuracy: 1.0000\n"
     ]
    },
    {
     "data": {
      "text/plain": [
       "[0.0011625560000538826, 1.0]"
      ]
     },
     "execution_count": 94,
     "metadata": {},
     "output_type": "execute_result"
    }
   ],
   "source": [
    "model.evaluate(X_test, y_test)"
   ]
  },
  {
   "cell_type": "code",
   "execution_count": 90,
   "id": "f5e2b92d-fbdc-4c16-b87d-991d9cc80daa",
   "metadata": {},
   "outputs": [
    {
     "name": "stdout",
     "output_type": "stream",
     "text": [
      "2/2 [==============================] - 0s 2ms/step\n",
      "[1.2072444e-07 9.8263694e-04 5.2872067e-04 6.8667682e-06 9.9999994e-01\n",
      " 9.9999833e-01 1.6703746e-04 1.0000000e+00 4.9181922e-06 1.0000000e+00]\n",
      "[0. 0. 0. 0. 1. 1. 0. 1. 0. 1.]\n"
     ]
    }
   ],
   "source": [
    "y_pred = model.predict(X_test).reshape(-1)\n",
    "print(y_pred[:10])\n",
    "\n",
    "# round the values to nearest integer ie 0 or 1\n",
    "y_pred = np.round(y_pred)\n",
    "print(y_pred[:10])"
   ]
  },
  {
   "cell_type": "code",
   "execution_count": 91,
   "id": "e1609693-435b-401c-b9fd-c299e54fea1f",
   "metadata": {},
   "outputs": [
    {
     "data": {
      "text/html": [
       "<div>\n",
       "<style scoped>\n",
       "    .dataframe tbody tr th:only-of-type {\n",
       "        vertical-align: middle;\n",
       "    }\n",
       "\n",
       "    .dataframe tbody tr th {\n",
       "        vertical-align: top;\n",
       "    }\n",
       "\n",
       "    .dataframe thead th {\n",
       "        text-align: right;\n",
       "    }\n",
       "</style>\n",
       "<table border=\"1\" class=\"dataframe\">\n",
       "  <thead>\n",
       "    <tr style=\"text-align: right;\">\n",
       "      <th></th>\n",
       "      <th>R</th>\n",
       "    </tr>\n",
       "  </thead>\n",
       "  <tbody>\n",
       "    <tr>\n",
       "      <th>186</th>\n",
       "      <td>0</td>\n",
       "    </tr>\n",
       "    <tr>\n",
       "      <th>155</th>\n",
       "      <td>0</td>\n",
       "    </tr>\n",
       "    <tr>\n",
       "      <th>165</th>\n",
       "      <td>0</td>\n",
       "    </tr>\n",
       "    <tr>\n",
       "      <th>200</th>\n",
       "      <td>0</td>\n",
       "    </tr>\n",
       "    <tr>\n",
       "      <th>58</th>\n",
       "      <td>1</td>\n",
       "    </tr>\n",
       "    <tr>\n",
       "      <th>34</th>\n",
       "      <td>1</td>\n",
       "    </tr>\n",
       "    <tr>\n",
       "      <th>151</th>\n",
       "      <td>0</td>\n",
       "    </tr>\n",
       "    <tr>\n",
       "      <th>18</th>\n",
       "      <td>1</td>\n",
       "    </tr>\n",
       "    <tr>\n",
       "      <th>202</th>\n",
       "      <td>0</td>\n",
       "    </tr>\n",
       "    <tr>\n",
       "      <th>62</th>\n",
       "      <td>1</td>\n",
       "    </tr>\n",
       "  </tbody>\n",
       "</table>\n",
       "</div>"
      ],
      "text/plain": [
       "     R\n",
       "186  0\n",
       "155  0\n",
       "165  0\n",
       "200  0\n",
       "58   1\n",
       "34   1\n",
       "151  0\n",
       "18   1\n",
       "202  0\n",
       "62   1"
      ]
     },
     "execution_count": 91,
     "metadata": {},
     "output_type": "execute_result"
    }
   ],
   "source": [
    "y_test[:10]"
   ]
  },
  {
   "cell_type": "code",
   "execution_count": 96,
   "id": "0a287e05-cbfa-4516-865b-45050c2d9eee",
   "metadata": {},
   "outputs": [
    {
     "name": "stdout",
     "output_type": "stream",
     "text": [
      "              precision    recall  f1-score   support\n",
      "\n",
      "           0       1.00      1.00      1.00        27\n",
      "           1       1.00      1.00      1.00        25\n",
      "\n",
      "    accuracy                           1.00        52\n",
      "   macro avg       1.00      1.00      1.00        52\n",
      "weighted avg       1.00      1.00      1.00        52\n",
      "\n"
     ]
    }
   ],
   "source": [
    "from sklearn.metrics import confusion_matrix, classification_report\n",
    "\n",
    "print(classification_report(y_test, y_pred))"
   ]
  },
  {
   "cell_type": "code",
   "execution_count": 99,
   "id": "9f301752-3e7f-42c8-9560-d4c7c1ceead2",
   "metadata": {},
   "outputs": [
    {
     "data": {
      "text/plain": [
       "Text(95.72222222222221, 0.5, 'Truth')"
      ]
     },
     "execution_count": 99,
     "metadata": {},
     "output_type": "execute_result"
    },
    {
     "data": {
      "image/png": "[encoded data removed]",
      "text/plain": [
       "<Figure size 1000x700 with 2 Axes>"
      ]
     },
     "metadata": {},
     "output_type": "display_data"
    }
   ],
   "source": [
    "import seaborn as sn\n",
    "cm = tf.math.confusion_matrix(labels=y_test, predictions=y_pred)\n",
    "\n",
    "plt.figure(figsize=(10, 7))\n",
    "sn.heatmap(cm, annot=True, fmt=\"d\")\n",
    "plt.xlabel('Predicted')\n",
    "plt.ylabel('Truth')"
   ]
  },
  {
   "cell_type": "code",
   "execution_count": 105,
   "id": "4e0b8f2c-3434-4404-84f8-42f19dbb4d47",
   "metadata": {},
   "outputs": [],
   "source": [
    "model1 = keras.models.Sequential([\n",
    "    # keras.layers.Input(shape=(60,)),\n",
    "    keras.layers.Dense(60, input_dim=60, activation=\"relu\"),\n",
    "    keras.layers.Dropout(0.5),\n",
    "    keras.layers.Dense(30, activation=\"relu\"),\n",
    "    keras.layers.Dropout(0.5),\n",
    "    keras.layers.Dense(15, activation=\"relu\"),\n",
    "    keras.layers.Dropout(0.5),\n",
    "    keras.layers.Dense(1, activation=\"sigmoid\"),\n",
    "])\n",
    "\n",
    "model1.compile(optimizer=\"adam\",\n",
    "              loss=\"binary_crossentropy\",\n",
    "              metrics=[\"accuracy\"],\n",
    "             )"
   ]
  },
  {
   "cell_type": "code",
   "execution_count": 108,
   "id": "e6dfc397-3dd8-48c6-ae79-824a4e68b3c2",
   "metadata": {},
   "outputs": [
    {
     "name": "stdout",
     "output_type": "stream",
     "text": [
      "Epoch 1/100\n",
      "20/20 [==============================] - 0s 840us/step - loss: 0.4129 - accuracy: 0.8205\n",
      "Epoch 2/100\n",
      "20/20 [==============================] - 0s 892us/step - loss: 0.4932 - accuracy: 0.8013\n",
      "Epoch 3/100\n",
      "20/20 [==============================] - 0s 840us/step - loss: 0.4448 - accuracy: 0.7628\n",
      "Epoch 4/100\n",
      "20/20 [==============================] - 0s 840us/step - loss: 0.3807 - accuracy: 0.8269\n",
      "Epoch 5/100\n",
      "20/20 [==============================] - 0s 840us/step - loss: 0.3978 - accuracy: 0.8526\n",
      "Epoch 6/100\n",
      "20/20 [==============================] - 0s 840us/step - loss: 0.4714 - accuracy: 0.8141\n",
      "Epoch 7/100\n",
      "20/20 [==============================] - 0s 892us/step - loss: 0.4316 - accuracy: 0.7949\n",
      "Epoch 8/100\n",
      "20/20 [==============================] - 0s 892us/step - loss: 0.3939 - accuracy: 0.8846\n",
      "Epoch 9/100\n",
      "20/20 [==============================] - 0s 840us/step - loss: 0.3932 - accuracy: 0.8397\n",
      "Epoch 10/100\n",
      "20/20 [==============================] - 0s 840us/step - loss: 0.3964 - accuracy: 0.8205\n",
      "Epoch 11/100\n",
      "20/20 [==============================] - 0s 840us/step - loss: 0.3593 - accuracy: 0.8526\n",
      "Epoch 12/100\n",
      "20/20 [==============================] - 0s 866us/step - loss: 0.3650 - accuracy: 0.8526\n",
      "Epoch 13/100\n",
      "20/20 [==============================] - 0s 892us/step - loss: 0.3945 - accuracy: 0.7949\n",
      "Epoch 14/100\n",
      "20/20 [==============================] - 0s 840us/step - loss: 0.3576 - accuracy: 0.8718\n",
      "Epoch 15/100\n",
      "20/20 [==============================] - 0s 840us/step - loss: 0.3540 - accuracy: 0.8910\n",
      "Epoch 16/100\n",
      "20/20 [==============================] - 0s 840us/step - loss: 0.3900 - accuracy: 0.8397\n",
      "Epoch 17/100\n",
      "20/20 [==============================] - 0s 1ms/step - loss: 0.3305 - accuracy: 0.8526\n",
      "Epoch 18/100\n",
      "20/20 [==============================] - 0s 840us/step - loss: 0.3839 - accuracy: 0.8654\n",
      "Epoch 19/100\n",
      "20/20 [==============================] - 0s 840us/step - loss: 0.3809 - accuracy: 0.8397\n",
      "Epoch 20/100\n",
      "20/20 [==============================] - 0s 840us/step - loss: 0.3330 - accuracy: 0.8654\n",
      "Epoch 21/100\n",
      "20/20 [==============================] - 0s 892us/step - loss: 0.3251 - accuracy: 0.8910\n",
      "Epoch 22/100\n",
      "20/20 [==============================] - 0s 840us/step - loss: 0.3461 - accuracy: 0.8397\n",
      "Epoch 23/100\n",
      "20/20 [==============================] - 0s 840us/step - loss: 0.3059 - accuracy: 0.8526\n",
      "Epoch 24/100\n",
      "20/20 [==============================] - 0s 840us/step - loss: 0.3504 - accuracy: 0.8718\n",
      "Epoch 25/100\n",
      "20/20 [==============================] - 0s 840us/step - loss: 0.3330 - accuracy: 0.8590\n",
      "Epoch 26/100\n",
      "20/20 [==============================] - 0s 892us/step - loss: 0.2866 - accuracy: 0.9231\n",
      "Epoch 27/100\n",
      "20/20 [==============================] - 0s 997us/step - loss: 0.3366 - accuracy: 0.8654\n",
      "Epoch 28/100\n",
      "20/20 [==============================] - 0s 945us/step - loss: 0.3004 - accuracy: 0.9038\n",
      "Epoch 29/100\n",
      "20/20 [==============================] - 0s 945us/step - loss: 0.3427 - accuracy: 0.8910\n",
      "Epoch 30/100\n",
      "20/20 [==============================] - 0s 892us/step - loss: 0.3580 - accuracy: 0.8718\n",
      "Epoch 31/100\n",
      "20/20 [==============================] - 0s 892us/step - loss: 0.2826 - accuracy: 0.8910\n",
      "Epoch 32/100\n",
      "20/20 [==============================] - 0s 945us/step - loss: 0.3072 - accuracy: 0.9103\n",
      "Epoch 33/100\n",
      "20/20 [==============================] - 0s 892us/step - loss: 0.2998 - accuracy: 0.8974\n",
      "Epoch 34/100\n",
      "20/20 [==============================] - 0s 945us/step - loss: 0.3333 - accuracy: 0.8654\n",
      "Epoch 35/100\n",
      "20/20 [==============================] - 0s 892us/step - loss: 0.3063 - accuracy: 0.8782\n",
      "Epoch 36/100\n",
      "20/20 [==============================] - 0s 945us/step - loss: 0.2560 - accuracy: 0.9167\n",
      "Epoch 37/100\n",
      "20/20 [==============================] - 0s 919us/step - loss: 0.2692 - accuracy: 0.8974\n",
      "Epoch 38/100\n",
      "20/20 [==============================] - 0s 892us/step - loss: 0.3515 - accuracy: 0.8910\n",
      "Epoch 39/100\n",
      "20/20 [==============================] - 0s 892us/step - loss: 0.3170 - accuracy: 0.8718\n",
      "Epoch 40/100\n",
      "20/20 [==============================] - 0s 840us/step - loss: 0.2408 - accuracy: 0.9231\n",
      "Epoch 41/100\n",
      "20/20 [==============================] - 0s 892us/step - loss: 0.3305 - accuracy: 0.8718\n",
      "Epoch 42/100\n",
      "20/20 [==============================] - 0s 919us/step - loss: 0.3324 - accuracy: 0.8526\n",
      "Epoch 43/100\n",
      "20/20 [==============================] - 0s 892us/step - loss: 0.2959 - accuracy: 0.8910\n",
      "Epoch 44/100\n",
      "20/20 [==============================] - 0s 892us/step - loss: 0.2398 - accuracy: 0.9167\n",
      "Epoch 45/100\n",
      "20/20 [==============================] - 0s 892us/step - loss: 0.2630 - accuracy: 0.8846\n",
      "Epoch 46/100\n",
      "20/20 [==============================] - 0s 945us/step - loss: 0.2259 - accuracy: 0.9103\n",
      "Epoch 47/100\n",
      "20/20 [==============================] - 0s 971us/step - loss: 0.2901 - accuracy: 0.8910\n",
      "Epoch 48/100\n",
      "20/20 [==============================] - 0s 945us/step - loss: 0.2191 - accuracy: 0.9231\n",
      "Epoch 49/100\n",
      "20/20 [==============================] - 0s 892us/step - loss: 0.2615 - accuracy: 0.9167\n",
      "Epoch 50/100\n",
      "20/20 [==============================] - 0s 945us/step - loss: 0.2431 - accuracy: 0.8974\n",
      "Epoch 51/100\n",
      "20/20 [==============================] - 0s 945us/step - loss: 0.2677 - accuracy: 0.9038\n",
      "Epoch 52/100\n",
      "20/20 [==============================] - 0s 1ms/step - loss: 0.2537 - accuracy: 0.8846\n",
      "Epoch 53/100\n",
      "20/20 [==============================] - 0s 892us/step - loss: 0.3058 - accuracy: 0.9167\n",
      "Epoch 54/100\n",
      "20/20 [==============================] - 0s 945us/step - loss: 0.2334 - accuracy: 0.8974\n",
      "Epoch 55/100\n",
      "20/20 [==============================] - 0s 892us/step - loss: 0.2976 - accuracy: 0.9038\n",
      "Epoch 56/100\n",
      "20/20 [==============================] - 0s 892us/step - loss: 0.2255 - accuracy: 0.9359\n",
      "Epoch 57/100\n",
      "20/20 [==============================] - 0s 840us/step - loss: 0.2156 - accuracy: 0.9167\n",
      "Epoch 58/100\n",
      "20/20 [==============================] - 0s 892us/step - loss: 0.2141 - accuracy: 0.9295\n",
      "Epoch 59/100\n",
      "20/20 [==============================] - 0s 892us/step - loss: 0.2536 - accuracy: 0.9359\n",
      "Epoch 60/100\n",
      "20/20 [==============================] - 0s 892us/step - loss: 0.2543 - accuracy: 0.9038\n",
      "Epoch 61/100\n",
      "20/20 [==============================] - 0s 840us/step - loss: 0.2986 - accuracy: 0.8974\n",
      "Epoch 62/100\n",
      "20/20 [==============================] - 0s 840us/step - loss: 0.2365 - accuracy: 0.9231\n",
      "Epoch 63/100\n",
      "20/20 [==============================] - 0s 840us/step - loss: 0.2436 - accuracy: 0.8974\n",
      "Epoch 64/100\n",
      "20/20 [==============================] - 0s 840us/step - loss: 0.2441 - accuracy: 0.9167\n",
      "Epoch 65/100\n",
      "20/20 [==============================] - 0s 787us/step - loss: 0.2504 - accuracy: 0.9103\n",
      "Epoch 66/100\n",
      "20/20 [==============================] - 0s 840us/step - loss: 0.1511 - accuracy: 0.9487\n",
      "Epoch 67/100\n",
      "20/20 [==============================] - 0s 840us/step - loss: 0.1917 - accuracy: 0.9359\n",
      "Epoch 68/100\n",
      "20/20 [==============================] - 0s 840us/step - loss: 0.2384 - accuracy: 0.9103\n",
      "Epoch 69/100\n",
      "20/20 [==============================] - 0s 840us/step - loss: 0.1901 - accuracy: 0.9423\n",
      "Epoch 70/100\n",
      "20/20 [==============================] - 0s 892us/step - loss: 0.1953 - accuracy: 0.9359\n",
      "Epoch 71/100\n",
      "20/20 [==============================] - 0s 840us/step - loss: 0.1638 - accuracy: 0.9679\n",
      "Epoch 72/100\n",
      "20/20 [==============================] - 0s 892us/step - loss: 0.2209 - accuracy: 0.9038\n",
      "Epoch 73/100\n",
      "20/20 [==============================] - 0s 997us/step - loss: 0.2869 - accuracy: 0.8974\n",
      "Epoch 74/100\n",
      "20/20 [==============================] - 0s 997us/step - loss: 0.2101 - accuracy: 0.9295\n",
      "Epoch 75/100\n",
      "20/20 [==============================] - 0s 997us/step - loss: 0.2490 - accuracy: 0.9103\n",
      "Epoch 76/100\n",
      "20/20 [==============================] - 0s 1ms/step - loss: 0.1961 - accuracy: 0.9295\n",
      "Epoch 77/100\n",
      "20/20 [==============================] - 0s 997us/step - loss: 0.2232 - accuracy: 0.9103\n",
      "Epoch 78/100\n",
      "20/20 [==============================] - 0s 997us/step - loss: 0.2090 - accuracy: 0.9487\n",
      "Epoch 79/100\n",
      "20/20 [==============================] - 0s 997us/step - loss: 0.1708 - accuracy: 0.9487\n",
      "Epoch 80/100\n",
      "20/20 [==============================] - 0s 892us/step - loss: 0.2209 - accuracy: 0.9231\n",
      "Epoch 81/100\n",
      "20/20 [==============================] - 0s 945us/step - loss: 0.1942 - accuracy: 0.9423\n",
      "Epoch 82/100\n",
      "20/20 [==============================] - 0s 892us/step - loss: 0.1868 - accuracy: 0.9551\n",
      "Epoch 83/100\n",
      "20/20 [==============================] - 0s 892us/step - loss: 0.2078 - accuracy: 0.9038\n",
      "Epoch 84/100\n",
      "20/20 [==============================] - 0s 892us/step - loss: 0.1991 - accuracy: 0.9231\n",
      "Epoch 85/100\n",
      "20/20 [==============================] - 0s 892us/step - loss: 0.2130 - accuracy: 0.9167\n",
      "Epoch 86/100\n",
      "20/20 [==============================] - 0s 840us/step - loss: 0.1762 - accuracy: 0.9487\n",
      "Epoch 87/100\n",
      "20/20 [==============================] - 0s 840us/step - loss: 0.1658 - accuracy: 0.9551\n",
      "Epoch 88/100\n",
      "20/20 [==============================] - 0s 892us/step - loss: 0.1676 - accuracy: 0.9551\n",
      "Epoch 89/100\n",
      "20/20 [==============================] - 0s 892us/step - loss: 0.1611 - accuracy: 0.9551\n",
      "Epoch 90/100\n",
      "20/20 [==============================] - 0s 840us/step - loss: 0.1930 - accuracy: 0.9359\n",
      "Epoch 91/100\n",
      "20/20 [==============================] - 0s 892us/step - loss: 0.1570 - accuracy: 0.9295\n",
      "Epoch 92/100\n",
      "20/20 [==============================] - 0s 892us/step - loss: 0.1409 - accuracy: 0.9551\n",
      "Epoch 93/100\n",
      "20/20 [==============================] - 0s 892us/step - loss: 0.1601 - accuracy: 0.9551\n",
      "Epoch 94/100\n",
      "20/20 [==============================] - 0s 840us/step - loss: 0.1673 - accuracy: 0.9487\n",
      "Epoch 95/100\n",
      "20/20 [==============================] - 0s 892us/step - loss: 0.2331 - accuracy: 0.9231\n",
      "Epoch 96/100\n",
      "20/20 [==============================] - 0s 892us/step - loss: 0.1970 - accuracy: 0.9231\n",
      "Epoch 97/100\n",
      "20/20 [==============================] - 0s 1ms/step - loss: 0.2501 - accuracy: 0.9167\n",
      "Epoch 98/100\n",
      "20/20 [==============================] - 0s 1ms/step - loss: 0.2227 - accuracy: 0.9295\n",
      "Epoch 99/100\n",
      "20/20 [==============================] - 0s 892us/step - loss: 0.1835 - accuracy: 0.9423\n",
      "Epoch 100/100\n",
      "20/20 [==============================] - 0s 892us/step - loss: 0.1645 - accuracy: 0.9551\n"
     ]
    },
    {
     "data": {
      "text/plain": [
       "<keras.src.callbacks.History at 0x2bfa14a2370>"
      ]
     },
     "execution_count": 108,
     "metadata": {},
     "output_type": "execute_result"
    }
   ],
   "source": [
    "model1.fit(X_train, y_train, epochs=100, batch_size=8)"
   ]
  },
  {
   "cell_type": "code",
   "execution_count": 109,
   "id": "ceedf639-5387-4f1a-a735-51fe28031093",
   "metadata": {},
   "outputs": [
    {
     "name": "stdout",
     "output_type": "stream",
     "text": [
      "2/2 [==============================] - 0s 2ms/step - loss: 0.5533 - accuracy: 0.7692\n"
     ]
    },
    {
     "data": {
      "text/plain": [
       "[0.5532640814781189, 0.7692307829856873]"
      ]
     },
     "execution_count": 109,
     "metadata": {},
     "output_type": "execute_result"
    }
   ],
   "source": [
    "model1.evaluate(X_test, y_test)"
   ]
  },
  {
   "cell_type": "code",
   "execution_count": 111,
   "id": "e83407e7-71cf-42fd-8ef8-e1cf0e7237c5",
   "metadata": {},
   "outputs": [
    {
     "name": "stdout",
     "output_type": "stream",
     "text": [
      "2/2 [==============================] - 0s 2ms/step\n",
      "[1.6707561e-07 9.0876043e-01 9.3864328e-01 4.9752728e-03 9.9999988e-01\n",
      " 9.9438113e-01 6.5317625e-01 1.0000000e+00 5.8731337e-05 1.0000000e+00]\n",
      "[0. 1. 1. 0. 1. 1. 1. 1. 0. 1.]\n"
     ]
    }
   ],
   "source": [
    "y_pred = model1.predict(X_test).reshape(-1)\n",
    "print(y_pred[:10])\n",
    "\n",
    "# round the values to nearest integer ie 0 or 1\n",
    "y_pred = np.round(y_pred)\n",
    "print(y_pred[:10])"
   ]
  },
  {
   "cell_type": "code",
   "execution_count": 112,
   "id": "6c3b262f-7516-481e-bafe-f5cfbb3de42a",
   "metadata": {},
   "outputs": [
    {
     "name": "stdout",
     "output_type": "stream",
     "text": [
      "              precision    recall  f1-score   support\n",
      "\n",
      "           0       0.74      0.85      0.79        27\n",
      "           1       0.81      0.68      0.74        25\n",
      "\n",
      "    accuracy                           0.77        52\n",
      "   macro avg       0.78      0.77      0.77        52\n",
      "weighted avg       0.77      0.77      0.77        52\n",
      "\n"
     ]
    }
   ],
   "source": [
    "print(classification_report(y_test, y_pred))"
   ]
  },
  {
   "cell_type": "code",
   "execution_count": 113,
   "id": "ca36d857-068f-494d-b502-f25abde47f34",
   "metadata": {},
   "outputs": [
    {
     "data": {
      "text/plain": [
       "Text(95.72222222222221, 0.5, 'Truth')"
      ]
     },
     "execution_count": 113,
     "metadata": {},
     "output_type": "execute_result"
    },
    {
     "data": {
      "image/png": "[encoded data removed]",
      "text/plain": [
       "<Figure size 1000x700 with 2 Axes>"
      ]
     },
     "metadata": {},
     "output_type": "display_data"
    }
   ],
   "source": [
    "\n",
    "cm = tf.math.confusion_matrix(labels=y_test, predictions=y_pred)\n",
    "\n",
    "plt.figure(figsize=(10, 7))\n",
    "sn.heatmap(cm, annot=True, fmt=\"d\")\n",
    "plt.xlabel('Predicted')\n",
    "plt.ylabel('Truth')"
   ]
  },
  {
   "cell_type": "code",
   "execution_count": null,
   "id": "6a9ecacb-4257-4b63-a739-7f2a069d555f",
   "metadata": {},
   "outputs": [],
   "source": []
  }
 ],
 "metadata": {
  "kernelspec": {
   "display_name": "Python 3 (ipykernel)",
   "language": "python",
   "name": "python3"
  },
  "language_info": {
   "codemirror_mode": {
    "name": "ipython",
    "version": 3
   },
   "file_extension": ".py",
   "mimetype": "text/x-python",
   "name": "python",
   "nbconvert_exporter": "python",
   "pygments_lexer": "ipython3",
   "version": "3.9.13"
  }
 },
 "nbformat": 4,
 "nbformat_minor": 5
}
